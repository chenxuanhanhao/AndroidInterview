{
  "nbformat": 4,
  "nbformat_minor": 0,
  "metadata": {
    "colab": {
      "name": "demo_breastcancer_neural_network.ipynb",
      "provenance": [],
      "include_colab_link": true
    }
  },
  "cells": [
    {
      "cell_type": "markdown",
      "metadata": {
        "id": "view-in-github",
        "colab_type": "text"
      },
      "source": [
        "<a href=\"https://colab.research.google.com/github/chenxuanhanhao/AndroidInterview/blob/master/demo_breastcancer_neural_network.ipynb\" target=\"_parent\"><img src=\"https://colab.research.google.com/assets/colab-badge.svg\" alt=\"Open In Colab\"/></a>"
      ]
    },
    {
      "cell_type": "code",
      "metadata": {
        "id": "PXInKDGC_xFc",
        "colab_type": "code",
        "outputId": "4b0f0ff0-796c-485e-d24f-790f62242b4e",
        "colab": {
          "resources": {
            "http://localhost:8080/nbextensions/google.colab/files.js": {
              "data": "Ly8gQ29weXJpZ2h0IDIwMTcgR29vZ2xlIExMQwovLwovLyBMaWNlbnNlZCB1bmRlciB0aGUgQXBhY2hlIExpY2Vuc2UsIFZlcnNpb24gMi4wICh0aGUgIkxpY2Vuc2UiKTsKLy8geW91IG1heSBub3QgdXNlIHRoaXMgZmlsZSBleGNlcHQgaW4gY29tcGxpYW5jZSB3aXRoIHRoZSBMaWNlbnNlLgovLyBZb3UgbWF5IG9idGFpbiBhIGNvcHkgb2YgdGhlIExpY2Vuc2UgYXQKLy8KLy8gICAgICBodHRwOi8vd3d3LmFwYWNoZS5vcmcvbGljZW5zZXMvTElDRU5TRS0yLjAKLy8KLy8gVW5sZXNzIHJlcXVpcmVkIGJ5IGFwcGxpY2FibGUgbGF3IG9yIGFncmVlZCB0byBpbiB3cml0aW5nLCBzb2Z0d2FyZQovLyBkaXN0cmlidXRlZCB1bmRlciB0aGUgTGljZW5zZSBpcyBkaXN0cmlidXRlZCBvbiBhbiAiQVMgSVMiIEJBU0lTLAovLyBXSVRIT1VUIFdBUlJBTlRJRVMgT1IgQ09ORElUSU9OUyBPRiBBTlkgS0lORCwgZWl0aGVyIGV4cHJlc3Mgb3IgaW1wbGllZC4KLy8gU2VlIHRoZSBMaWNlbnNlIGZvciB0aGUgc3BlY2lmaWMgbGFuZ3VhZ2UgZ292ZXJuaW5nIHBlcm1pc3Npb25zIGFuZAovLyBsaW1pdGF0aW9ucyB1bmRlciB0aGUgTGljZW5zZS4KCi8qKgogKiBAZmlsZW92ZXJ2aWV3IEhlbHBlcnMgZm9yIGdvb2dsZS5jb2xhYiBQeXRob24gbW9kdWxlLgogKi8KKGZ1bmN0aW9uKHNjb3BlKSB7CmZ1bmN0aW9uIHNwYW4odGV4dCwgc3R5bGVBdHRyaWJ1dGVzID0ge30pIHsKICBjb25zdCBlbGVtZW50ID0gZG9jdW1lbnQuY3JlYXRlRWxlbWVudCgnc3BhbicpOwogIGVsZW1lbnQudGV4dENvbnRlbnQgPSB0ZXh0OwogIGZvciAoY29uc3Qga2V5IG9mIE9iamVjdC5rZXlzKHN0eWxlQXR0cmlidXRlcykpIHsKICAgIGVsZW1lbnQuc3R5bGVba2V5XSA9IHN0eWxlQXR0cmlidXRlc1trZXldOwogIH0KICByZXR1cm4gZWxlbWVudDsKfQoKLy8gTWF4IG51bWJlciBvZiBieXRlcyB3aGljaCB3aWxsIGJlIHVwbG9hZGVkIGF0IGEgdGltZS4KY29uc3QgTUFYX1BBWUxPQURfU0laRSA9IDEwMCAqIDEwMjQ7Ci8vIE1heCBhbW91bnQgb2YgdGltZSB0byBibG9jayB3YWl0aW5nIGZvciB0aGUgdXNlci4KY29uc3QgRklMRV9DSEFOR0VfVElNRU9VVF9NUyA9IDMwICogMTAwMDsKCmZ1bmN0aW9uIF91cGxvYWRGaWxlcyhpbnB1dElkLCBvdXRwdXRJZCkgewogIGNvbnN0IHN0ZXBzID0gdXBsb2FkRmlsZXNTdGVwKGlucHV0SWQsIG91dHB1dElkKTsKICBjb25zdCBvdXRwdXRFbGVtZW50ID0gZG9jdW1lbnQuZ2V0RWxlbWVudEJ5SWQob3V0cHV0SWQpOwogIC8vIENhY2hlIHN0ZXBzIG9uIHRoZSBvdXRwdXRFbGVtZW50IHRvIG1ha2UgaXQgYXZhaWxhYmxlIGZvciB0aGUgbmV4dCBjYWxsCiAgLy8gdG8gdXBsb2FkRmlsZXNDb250aW51ZSBmcm9tIFB5dGhvbi4KICBvdXRwdXRFbGVtZW50LnN0ZXBzID0gc3RlcHM7CgogIHJldHVybiBfdXBsb2FkRmlsZXNDb250aW51ZShvdXRwdXRJZCk7Cn0KCi8vIFRoaXMgaXMgcm91Z2hseSBhbiBhc3luYyBnZW5lcmF0b3IgKG5vdCBzdXBwb3J0ZWQgaW4gdGhlIGJyb3dzZXIgeWV0KSwKLy8gd2hlcmUgdGhlcmUgYXJlIG11bHRpcGxlIGFzeW5jaHJvbm91cyBzdGVwcyBhbmQgdGhlIFB5dGhvbiBzaWRlIGlzIGdvaW5nCi8vIHRvIHBvbGwgZm9yIGNvbXBsZXRpb24gb2YgZWFjaCBzdGVwLgovLyBUaGlzIHVzZXMgYSBQcm9taXNlIHRvIGJsb2NrIHRoZSBweXRob24gc2lkZSBvbiBjb21wbGV0aW9uIG9mIGVhY2ggc3RlcCwKLy8gdGhlbiBwYXNzZXMgdGhlIHJlc3VsdCBvZiB0aGUgcHJldmlvdXMgc3RlcCBhcyB0aGUgaW5wdXQgdG8gdGhlIG5leHQgc3RlcC4KZnVuY3Rpb24gX3VwbG9hZEZpbGVzQ29udGludWUob3V0cHV0SWQpIHsKICBjb25zdCBvdXRwdXRFbGVtZW50ID0gZG9jdW1lbnQuZ2V0RWxlbWVudEJ5SWQob3V0cHV0SWQpOwogIGNvbnN0IHN0ZXBzID0gb3V0cHV0RWxlbWVudC5zdGVwczsKCiAgY29uc3QgbmV4dCA9IHN0ZXBzLm5leHQob3V0cHV0RWxlbWVudC5sYXN0UHJvbWlzZVZhbHVlKTsKICByZXR1cm4gUHJvbWlzZS5yZXNvbHZlKG5leHQudmFsdWUucHJvbWlzZSkudGhlbigodmFsdWUpID0+IHsKICAgIC8vIENhY2hlIHRoZSBsYXN0IHByb21pc2UgdmFsdWUgdG8gbWFrZSBpdCBhdmFpbGFibGUgdG8gdGhlIG5leHQKICAgIC8vIHN0ZXAgb2YgdGhlIGdlbmVyYXRvci4KICAgIG91dHB1dEVsZW1lbnQubGFzdFByb21pc2VWYWx1ZSA9IHZhbHVlOwogICAgcmV0dXJuIG5leHQudmFsdWUucmVzcG9uc2U7CiAgfSk7Cn0KCi8qKgogKiBHZW5lcmF0b3IgZnVuY3Rpb24gd2hpY2ggaXMgY2FsbGVkIGJldHdlZW4gZWFjaCBhc3luYyBzdGVwIG9mIHRoZSB1cGxvYWQKICogcHJvY2Vzcy4KICogQHBhcmFtIHtzdHJpbmd9IGlucHV0SWQgRWxlbWVudCBJRCBvZiB0aGUgaW5wdXQgZmlsZSBwaWNrZXIgZWxlbWVudC4KICogQHBhcmFtIHtzdHJpbmd9IG91dHB1dElkIEVsZW1lbnQgSUQgb2YgdGhlIG91dHB1dCBkaXNwbGF5LgogKiBAcmV0dXJuIHshSXRlcmFibGU8IU9iamVjdD59IEl0ZXJhYmxlIG9mIG5leHQgc3RlcHMuCiAqLwpmdW5jdGlvbiogdXBsb2FkRmlsZXNTdGVwKGlucHV0SWQsIG91dHB1dElkKSB7CiAgY29uc3QgaW5wdXRFbGVtZW50ID0gZG9jdW1lbnQuZ2V0RWxlbWVudEJ5SWQoaW5wdXRJZCk7CiAgaW5wdXRFbGVtZW50LmRpc2FibGVkID0gZmFsc2U7CgogIGNvbnN0IG91dHB1dEVsZW1lbnQgPSBkb2N1bWVudC5nZXRFbGVtZW50QnlJZChvdXRwdXRJZCk7CiAgb3V0cHV0RWxlbWVudC5pbm5lckhUTUwgPSAnJzsKCiAgY29uc3QgcGlja2VkUHJvbWlzZSA9IG5ldyBQcm9taXNlKChyZXNvbHZlKSA9PiB7CiAgICBpbnB1dEVsZW1lbnQuYWRkRXZlbnRMaXN0ZW5lcignY2hhbmdlJywgKGUpID0+IHsKICAgICAgcmVzb2x2ZShlLnRhcmdldC5maWxlcyk7CiAgICB9KTsKICB9KTsKCiAgY29uc3QgY2FuY2VsID0gZG9jdW1lbnQuY3JlYXRlRWxlbWVudCgnYnV0dG9uJyk7CiAgaW5wdXRFbGVtZW50LnBhcmVudEVsZW1lbnQuYXBwZW5kQ2hpbGQoY2FuY2VsKTsKICBjYW5jZWwudGV4dENvbnRlbnQgPSAnQ2FuY2VsIHVwbG9hZCc7CiAgY29uc3QgY2FuY2VsUHJvbWlzZSA9IG5ldyBQcm9taXNlKChyZXNvbHZlKSA9PiB7CiAgICBjYW5jZWwub25jbGljayA9ICgpID0+IHsKICAgICAgcmVzb2x2ZShudWxsKTsKICAgIH07CiAgfSk7CgogIC8vIENhbmNlbCB1cGxvYWQgaWYgdXNlciBoYXNuJ3QgcGlja2VkIGFueXRoaW5nIGluIHRpbWVvdXQuCiAgY29uc3QgdGltZW91dFByb21pc2UgPSBuZXcgUHJvbWlzZSgocmVzb2x2ZSkgPT4gewogICAgc2V0VGltZW91dCgoKSA9PiB7CiAgICAgIHJlc29sdmUobnVsbCk7CiAgICB9LCBGSUxFX0NIQU5HRV9USU1FT1VUX01TKTsKICB9KTsKCiAgLy8gV2FpdCBmb3IgdGhlIHVzZXIgdG8gcGljayB0aGUgZmlsZXMuCiAgY29uc3QgZmlsZXMgPSB5aWVsZCB7CiAgICBwcm9taXNlOiBQcm9taXNlLnJhY2UoW3BpY2tlZFByb21pc2UsIHRpbWVvdXRQcm9taXNlLCBjYW5jZWxQcm9taXNlXSksCiAgICByZXNwb25zZTogewogICAgICBhY3Rpb246ICdzdGFydGluZycsCiAgICB9CiAgfTsKCiAgaWYgKCFmaWxlcykgewogICAgcmV0dXJuIHsKICAgICAgcmVzcG9uc2U6IHsKICAgICAgICBhY3Rpb246ICdjb21wbGV0ZScsCiAgICAgIH0KICAgIH07CiAgfQoKICBjYW5jZWwucmVtb3ZlKCk7CgogIC8vIERpc2FibGUgdGhlIGlucHV0IGVsZW1lbnQgc2luY2UgZnVydGhlciBwaWNrcyBhcmUgbm90IGFsbG93ZWQuCiAgaW5wdXRFbGVtZW50LmRpc2FibGVkID0gdHJ1ZTsKCiAgZm9yIChjb25zdCBmaWxlIG9mIGZpbGVzKSB7CiAgICBjb25zdCBsaSA9IGRvY3VtZW50LmNyZWF0ZUVsZW1lbnQoJ2xpJyk7CiAgICBsaS5hcHBlbmQoc3BhbihmaWxlLm5hbWUsIHtmb250V2VpZ2h0OiAnYm9sZCd9KSk7CiAgICBsaS5hcHBlbmQoc3BhbigKICAgICAgICBgKCR7ZmlsZS50eXBlIHx8ICduL2EnfSkgLSAke2ZpbGUuc2l6ZX0gYnl0ZXMsIGAgKwogICAgICAgIGBsYXN0IG1vZGlmaWVkOiAkewogICAgICAgICAgICBmaWxlLmxhc3RNb2RpZmllZERhdGUgPyBmaWxlLmxhc3RNb2RpZmllZERhdGUudG9Mb2NhbGVEYXRlU3RyaW5nKCkgOgogICAgICAgICAgICAgICAgICAgICAgICAgICAgICAgICAgICAnbi9hJ30gLSAlYCkpOwogICAgY29uc3QgcGVyY2VudCA9IHNwYW4oJzAgZG9uZScpOwogICAgbGkuYXBwZW5kQ2hpbGQocGVyY2VudCk7CgogICAgb3V0cHV0RWxlbWVudC5hcHBlbmRDaGlsZChsaSk7CgogICAgY29uc3QgZmlsZURhdGFQcm9taXNlID0gbmV3IFByb21pc2UoKHJlc29sdmUpID0+IHsKICAgICAgY29uc3QgcmVhZGVyID0gbmV3IEZpbGVSZWFkZXIoKTsKICAgICAgcmVhZGVyLm9ubG9hZCA9IChlKSA9PiB7CiAgICAgICAgcmVzb2x2ZShlLnRhcmdldC5yZXN1bHQpOwogICAgICB9OwogICAgICByZWFkZXIucmVhZEFzQXJyYXlCdWZmZXIoZmlsZSk7CiAgICB9KTsKICAgIC8vIFdhaXQgZm9yIHRoZSBkYXRhIHRvIGJlIHJlYWR5LgogICAgbGV0IGZpbGVEYXRhID0geWllbGQgewogICAgICBwcm9taXNlOiBmaWxlRGF0YVByb21pc2UsCiAgICAgIHJlc3BvbnNlOiB7CiAgICAgICAgYWN0aW9uOiAnY29udGludWUnLAogICAgICB9CiAgICB9OwoKICAgIC8vIFVzZSBhIGNodW5rZWQgc2VuZGluZyB0byBhdm9pZCBtZXNzYWdlIHNpemUgbGltaXRzLiBTZWUgYi82MjExNTY2MC4KICAgIGxldCBwb3NpdGlvbiA9IDA7CiAgICB3aGlsZSAocG9zaXRpb24gPCBmaWxlRGF0YS5ieXRlTGVuZ3RoKSB7CiAgICAgIGNvbnN0IGxlbmd0aCA9IE1hdGgubWluKGZpbGVEYXRhLmJ5dGVMZW5ndGggLSBwb3NpdGlvbiwgTUFYX1BBWUxPQURfU0laRSk7CiAgICAgIGNvbnN0IGNodW5rID0gbmV3IFVpbnQ4QXJyYXkoZmlsZURhdGEsIHBvc2l0aW9uLCBsZW5ndGgpOwogICAgICBwb3NpdGlvbiArPSBsZW5ndGg7CgogICAgICBjb25zdCBiYXNlNjQgPSBidG9hKFN0cmluZy5mcm9tQ2hhckNvZGUuYXBwbHkobnVsbCwgY2h1bmspKTsKICAgICAgeWllbGQgewogICAgICAgIHJlc3BvbnNlOiB7CiAgICAgICAgICBhY3Rpb246ICdhcHBlbmQnLAogICAgICAgICAgZmlsZTogZmlsZS5uYW1lLAogICAgICAgICAgZGF0YTogYmFzZTY0LAogICAgICAgIH0sCiAgICAgIH07CiAgICAgIHBlcmNlbnQudGV4dENvbnRlbnQgPQogICAgICAgICAgYCR7TWF0aC5yb3VuZCgocG9zaXRpb24gLyBmaWxlRGF0YS5ieXRlTGVuZ3RoKSAqIDEwMCl9IGRvbmVgOwogICAgfQogIH0KCiAgLy8gQWxsIGRvbmUuCiAgeWllbGQgewogICAgcmVzcG9uc2U6IHsKICAgICAgYWN0aW9uOiAnY29tcGxldGUnLAogICAgfQogIH07Cn0KCnNjb3BlLmdvb2dsZSA9IHNjb3BlLmdvb2dsZSB8fCB7fTsKc2NvcGUuZ29vZ2xlLmNvbGFiID0gc2NvcGUuZ29vZ2xlLmNvbGFiIHx8IHt9OwpzY29wZS5nb29nbGUuY29sYWIuX2ZpbGVzID0gewogIF91cGxvYWRGaWxlcywKICBfdXBsb2FkRmlsZXNDb250aW51ZSwKfTsKfSkoc2VsZik7Cg==",
              "ok": true,
              "headers": [
                [
                  "content-type",
                  "application/javascript"
                ]
              ],
              "status": 200,
              "status_text": ""
            }
          },
          "base_uri": "https://localhost:8080/",
          "height": 52
        }
      },
      "source": [
        "from google.colab import files\n",
        "uploaded = files.upload()"
      ],
      "execution_count": 0,
      "outputs": [
        {
          "output_type": "display_data",
          "data": {
            "text/plain": [
              "<IPython.core.display.HTML object>"
            ],
            "text/html": [
              "\n",
              "     <input type=\"file\" id=\"files-ce3cd2f3-9163-479a-b909-85e5f95f85bd\" name=\"files[]\" multiple disabled />\n",
              "     <output id=\"result-ce3cd2f3-9163-479a-b909-85e5f95f85bd\">\n",
              "      Upload widget is only available when the cell has been executed in the\n",
              "      current browser session. Please rerun this cell to enable.\n",
              "      </output>\n",
              "      <script src=\"/nbextensions/google.colab/files.js\"</script> "
            ]
          },
          "metadata": {
            "tags": []
          }
        }
      ]
    },
    {
      "cell_type": "code",
      "metadata": {
        "id": "pVMc6-PwClbT",
        "colab_type": "code",
        "colab": {}
      },
      "source": [
        "#Save uploaded file on the Virtual Machine's \n",
        "#Thanks to user3800642 from StackOverflow \n",
        "\n",
        "with open(\"breast_cancer.csv\", 'w') as f:\n",
        "    f.write(uploaded[uploaded.keys()[0]])"
      ],
      "execution_count": 0,
      "outputs": []
    },
    {
      "cell_type": "code",
      "metadata": {
        "id": "YjAkyzSyCxDm",
        "colab_type": "code",
        "outputId": "803d3fd6-1465-4d26-d46d-9f331acacf95",
        "colab": {
          "base_uri": "https://localhost:8080/",
          "height": 34
        }
      },
      "source": [
        "!ls"
      ],
      "execution_count": 0,
      "outputs": [
        {
          "output_type": "stream",
          "text": [
            "breast_cancer.csv  datalab\r\n"
          ],
          "name": "stdout"
        }
      ]
    },
    {
      "cell_type": "code",
      "metadata": {
        "id": "VsluPna2Cypl",
        "colab_type": "code",
        "colab": {}
      },
      "source": [
        "import numpy as np\n",
        "import matplotlib.pyplot as plt\n",
        "import pandas as pd\n",
        "\n",
        "#Importing dataset\n",
        "dataset = pd.read_csv('breast_cancer.csv')"
      ],
      "execution_count": 0,
      "outputs": []
    },
    {
      "cell_type": "code",
      "metadata": {
        "id": "JNMlD8egDEl1",
        "colab_type": "code",
        "outputId": "1ba69010-454b-4db1-a232-8dc999d53015",
        "colab": {
          "base_uri": "https://localhost:8080/",
          "height": 270
        }
      },
      "source": [
        "dataset.head(5)"
      ],
      "execution_count": 0,
      "outputs": [
        {
          "output_type": "execute_result",
          "data": {
            "text/html": [
              "<div>\n",
              "<style>\n",
              "    .dataframe thead tr:only-child th {\n",
              "        text-align: right;\n",
              "    }\n",
              "\n",
              "    .dataframe thead th {\n",
              "        text-align: left;\n",
              "    }\n",
              "\n",
              "    .dataframe tbody tr th {\n",
              "        vertical-align: top;\n",
              "    }\n",
              "</style>\n",
              "<table border=\"1\" class=\"dataframe\">\n",
              "  <thead>\n",
              "    <tr style=\"text-align: right;\">\n",
              "      <th></th>\n",
              "      <th>id</th>\n",
              "      <th>diagnosis</th>\n",
              "      <th>radius_mean</th>\n",
              "      <th>texture_mean</th>\n",
              "      <th>perimeter_mean</th>\n",
              "      <th>area_mean</th>\n",
              "      <th>smoothness_mean</th>\n",
              "      <th>compactness_mean</th>\n",
              "      <th>concavity_mean</th>\n",
              "      <th>concave points_mean</th>\n",
              "      <th>...</th>\n",
              "      <th>texture_worst</th>\n",
              "      <th>perimeter_worst</th>\n",
              "      <th>area_worst</th>\n",
              "      <th>smoothness_worst</th>\n",
              "      <th>compactness_worst</th>\n",
              "      <th>concavity_worst</th>\n",
              "      <th>concave points_worst</th>\n",
              "      <th>symmetry_worst</th>\n",
              "      <th>fractal_dimension_worst</th>\n",
              "      <th>Unnamed: 32</th>\n",
              "    </tr>\n",
              "  </thead>\n",
              "  <tbody>\n",
              "    <tr>\n",
              "      <th>0</th>\n",
              "      <td>842302</td>\n",
              "      <td>M</td>\n",
              "      <td>17.99</td>\n",
              "      <td>10.38</td>\n",
              "      <td>122.80</td>\n",
              "      <td>1001.0</td>\n",
              "      <td>0.11840</td>\n",
              "      <td>0.27760</td>\n",
              "      <td>0.3001</td>\n",
              "      <td>0.14710</td>\n",
              "      <td>...</td>\n",
              "      <td>17.33</td>\n",
              "      <td>184.60</td>\n",
              "      <td>2019.0</td>\n",
              "      <td>0.1622</td>\n",
              "      <td>0.6656</td>\n",
              "      <td>0.7119</td>\n",
              "      <td>0.2654</td>\n",
              "      <td>0.4601</td>\n",
              "      <td>0.11890</td>\n",
              "      <td>NaN</td>\n",
              "    </tr>\n",
              "    <tr>\n",
              "      <th>1</th>\n",
              "      <td>842517</td>\n",
              "      <td>M</td>\n",
              "      <td>20.57</td>\n",
              "      <td>17.77</td>\n",
              "      <td>132.90</td>\n",
              "      <td>1326.0</td>\n",
              "      <td>0.08474</td>\n",
              "      <td>0.07864</td>\n",
              "      <td>0.0869</td>\n",
              "      <td>0.07017</td>\n",
              "      <td>...</td>\n",
              "      <td>23.41</td>\n",
              "      <td>158.80</td>\n",
              "      <td>1956.0</td>\n",
              "      <td>0.1238</td>\n",
              "      <td>0.1866</td>\n",
              "      <td>0.2416</td>\n",
              "      <td>0.1860</td>\n",
              "      <td>0.2750</td>\n",
              "      <td>0.08902</td>\n",
              "      <td>NaN</td>\n",
              "    </tr>\n",
              "    <tr>\n",
              "      <th>2</th>\n",
              "      <td>84300903</td>\n",
              "      <td>M</td>\n",
              "      <td>19.69</td>\n",
              "      <td>21.25</td>\n",
              "      <td>130.00</td>\n",
              "      <td>1203.0</td>\n",
              "      <td>0.10960</td>\n",
              "      <td>0.15990</td>\n",
              "      <td>0.1974</td>\n",
              "      <td>0.12790</td>\n",
              "      <td>...</td>\n",
              "      <td>25.53</td>\n",
              "      <td>152.50</td>\n",
              "      <td>1709.0</td>\n",
              "      <td>0.1444</td>\n",
              "      <td>0.4245</td>\n",
              "      <td>0.4504</td>\n",
              "      <td>0.2430</td>\n",
              "      <td>0.3613</td>\n",
              "      <td>0.08758</td>\n",
              "      <td>NaN</td>\n",
              "    </tr>\n",
              "    <tr>\n",
              "      <th>3</th>\n",
              "      <td>84348301</td>\n",
              "      <td>M</td>\n",
              "      <td>11.42</td>\n",
              "      <td>20.38</td>\n",
              "      <td>77.58</td>\n",
              "      <td>386.1</td>\n",
              "      <td>0.14250</td>\n",
              "      <td>0.28390</td>\n",
              "      <td>0.2414</td>\n",
              "      <td>0.10520</td>\n",
              "      <td>...</td>\n",
              "      <td>26.50</td>\n",
              "      <td>98.87</td>\n",
              "      <td>567.7</td>\n",
              "      <td>0.2098</td>\n",
              "      <td>0.8663</td>\n",
              "      <td>0.6869</td>\n",
              "      <td>0.2575</td>\n",
              "      <td>0.6638</td>\n",
              "      <td>0.17300</td>\n",
              "      <td>NaN</td>\n",
              "    </tr>\n",
              "    <tr>\n",
              "      <th>4</th>\n",
              "      <td>84358402</td>\n",
              "      <td>M</td>\n",
              "      <td>20.29</td>\n",
              "      <td>14.34</td>\n",
              "      <td>135.10</td>\n",
              "      <td>1297.0</td>\n",
              "      <td>0.10030</td>\n",
              "      <td>0.13280</td>\n",
              "      <td>0.1980</td>\n",
              "      <td>0.10430</td>\n",
              "      <td>...</td>\n",
              "      <td>16.67</td>\n",
              "      <td>152.20</td>\n",
              "      <td>1575.0</td>\n",
              "      <td>0.1374</td>\n",
              "      <td>0.2050</td>\n",
              "      <td>0.4000</td>\n",
              "      <td>0.1625</td>\n",
              "      <td>0.2364</td>\n",
              "      <td>0.07678</td>\n",
              "      <td>NaN</td>\n",
              "    </tr>\n",
              "  </tbody>\n",
              "</table>\n",
              "<p>5 rows × 33 columns</p>\n",
              "</div>"
            ],
            "text/plain": [
              "         id diagnosis  radius_mean  texture_mean  perimeter_mean  area_mean  \\\n",
              "0    842302         M        17.99         10.38          122.80     1001.0   \n",
              "1    842517         M        20.57         17.77          132.90     1326.0   \n",
              "2  84300903         M        19.69         21.25          130.00     1203.0   \n",
              "3  84348301         M        11.42         20.38           77.58      386.1   \n",
              "4  84358402         M        20.29         14.34          135.10     1297.0   \n",
              "\n",
              "   smoothness_mean  compactness_mean  concavity_mean  concave points_mean  \\\n",
              "0          0.11840           0.27760          0.3001              0.14710   \n",
              "1          0.08474           0.07864          0.0869              0.07017   \n",
              "2          0.10960           0.15990          0.1974              0.12790   \n",
              "3          0.14250           0.28390          0.2414              0.10520   \n",
              "4          0.10030           0.13280          0.1980              0.10430   \n",
              "\n",
              "      ...       texture_worst  perimeter_worst  area_worst  smoothness_worst  \\\n",
              "0     ...               17.33           184.60      2019.0            0.1622   \n",
              "1     ...               23.41           158.80      1956.0            0.1238   \n",
              "2     ...               25.53           152.50      1709.0            0.1444   \n",
              "3     ...               26.50            98.87       567.7            0.2098   \n",
              "4     ...               16.67           152.20      1575.0            0.1374   \n",
              "\n",
              "   compactness_worst  concavity_worst  concave points_worst  symmetry_worst  \\\n",
              "0             0.6656           0.7119                0.2654          0.4601   \n",
              "1             0.1866           0.2416                0.1860          0.2750   \n",
              "2             0.4245           0.4504                0.2430          0.3613   \n",
              "3             0.8663           0.6869                0.2575          0.6638   \n",
              "4             0.2050           0.4000                0.1625          0.2364   \n",
              "\n",
              "   fractal_dimension_worst  Unnamed: 32  \n",
              "0                  0.11890          NaN  \n",
              "1                  0.08902          NaN  \n",
              "2                  0.08758          NaN  \n",
              "3                  0.17300          NaN  \n",
              "4                  0.07678          NaN  \n",
              "\n",
              "[5 rows x 33 columns]"
            ]
          },
          "metadata": {
            "tags": []
          },
          "execution_count": 5
        }
      ]
    },
    {
      "cell_type": "code",
      "metadata": {
        "id": "jkRaEx4FDSoa",
        "colab_type": "code",
        "colab": {}
      },
      "source": [
        "#Seperating dependent and independent variables. \n",
        "\n",
        "X = dataset.iloc[:, 2:32].values  #Note: Exclude Last column with all NaN values.\n",
        "y = dataset.iloc[:, 1].values"
      ],
      "execution_count": 0,
      "outputs": []
    },
    {
      "cell_type": "code",
      "metadata": {
        "id": "Sy_XHjajzQD5",
        "colab_type": "code",
        "outputId": "0f26dc39-4245-4839-aa87-202ed949de7a",
        "colab": {
          "base_uri": "https://localhost:8080/",
          "height": 34
        }
      },
      "source": [
        "X.shape"
      ],
      "execution_count": 0,
      "outputs": [
        {
          "output_type": "execute_result",
          "data": {
            "text/plain": [
              "(569, 30)"
            ]
          },
          "metadata": {
            "tags": []
          },
          "execution_count": 7
        }
      ]
    },
    {
      "cell_type": "code",
      "metadata": {
        "id": "tOC2Y4_2FdKg",
        "colab_type": "code",
        "colab": {}
      },
      "source": [
        "#Encoding Categorical Data\n",
        "from sklearn.preprocessing import LabelEncoder\n",
        "labelencoder = LabelEncoder()\n",
        "\n",
        "y = labelencoder.fit_transform(y)"
      ],
      "execution_count": 0,
      "outputs": []
    },
    {
      "cell_type": "code",
      "metadata": {
        "id": "KviqCj5KVyKR",
        "colab_type": "code",
        "colab": {}
      },
      "source": [
        "'''#OneHotEncoder\n",
        "from sklearn.preprocessing import OneHotEncoder\n",
        "\n",
        "onehotencoder = OneHotEncoder()\n",
        "y = onehotencoder.fit_transform(y).toarray()\n",
        "y = y[:, 1:]'''"
      ],
      "execution_count": 0,
      "outputs": []
    },
    {
      "cell_type": "code",
      "metadata": {
        "id": "pGEasn5XaGrH",
        "colab_type": "code",
        "colab": {}
      },
      "source": [
        "y.shape"
      ],
      "execution_count": 0,
      "outputs": []
    },
    {
      "cell_type": "code",
      "metadata": {
        "id": "N-MZKcZ3LFhA",
        "colab_type": "code",
        "colab": {}
      },
      "source": [
        "#Splitting into Training set and Test set\n",
        "from sklearn.model_selection import train_test_split\n",
        "X_train, X_test, y_train, y_test = train_test_split(X, y, test_size = 0.2, random_state = 42)"
      ],
      "execution_count": 0,
      "outputs": []
    },
    {
      "cell_type": "code",
      "metadata": {
        "id": "_aePbHmfLKJU",
        "colab_type": "code",
        "colab": {}
      },
      "source": [
        "#Feature Scaling\n",
        "from sklearn.preprocessing import StandardScaler\n",
        "sc = StandardScaler()\n",
        "X_train = sc.fit_transform(X_train)\n",
        "X_test = sc.fit_transform(X_test)"
      ],
      "execution_count": 0,
      "outputs": []
    },
    {
      "cell_type": "code",
      "metadata": {
        "id": "dK3hmixALohZ",
        "colab_type": "code",
        "colab": {}
      },
      "source": [
        "#ANN "
      ],
      "execution_count": 0,
      "outputs": []
    },
    {
      "cell_type": "code",
      "metadata": {
        "id": "0KUtiO2mLsLc",
        "colab_type": "code",
        "colab": {}
      },
      "source": [
        "# https://keras.io/\n",
        "!pip install -q keras"
      ],
      "execution_count": 0,
      "outputs": []
    },
    {
      "cell_type": "code",
      "metadata": {
        "id": "4NXuXJktLuTJ",
        "colab_type": "code",
        "outputId": "2ec6db10-6daf-4ed3-e7e8-edc07b567205",
        "colab": {
          "base_uri": "https://localhost:8080/",
          "height": 34
        }
      },
      "source": [
        "# Importing the Keras libraries and packages\n",
        "import keras\n",
        "from keras.models import Sequential\n",
        "from keras.layers import Dense"
      ],
      "execution_count": 0,
      "outputs": [
        {
          "output_type": "stream",
          "text": [
            "Using TensorFlow backend.\n"
          ],
          "name": "stderr"
        }
      ]
    },
    {
      "cell_type": "code",
      "metadata": {
        "id": "Z2K-DkZZLxfs",
        "colab_type": "code",
        "colab": {}
      },
      "source": [
        "# Initialising the ANN\n",
        "classifier = Sequential()"
      ],
      "execution_count": 0,
      "outputs": []
    },
    {
      "cell_type": "code",
      "metadata": {
        "id": "wGDheyKlL1De",
        "colab_type": "code",
        "colab": {}
      },
      "source": [
        "# Adding the input layer and the first hidden layer\n",
        "classifier.add(Dense(units = 16, kernel_initializer = 'uniform', activation = 'relu', input_dim = 30))\n",
        "\n",
        "# Adding the second hidden layer\n",
        "classifier.add(Dense(units = 16, kernel_initializer = 'uniform', activation = 'relu'))\n",
        "\n",
        "# Adding the output layer\n",
        "classifier.add(Dense(units = 1, kernel_initializer = 'uniform', activation = 'sigmoid'))"
      ],
      "execution_count": 0,
      "outputs": []
    },
    {
      "cell_type": "code",
      "metadata": {
        "id": "e8bdSoU7M8e_",
        "colab_type": "code",
        "colab": {}
      },
      "source": [
        "# Compiling the ANN\n",
        "classifier.compile(optimizer = 'adam', loss = 'binary_crossentropy', metrics = ['accuracy'])"
      ],
      "execution_count": 0,
      "outputs": []
    },
    {
      "cell_type": "code",
      "metadata": {
        "id": "wJ3Z7jPaM_I4",
        "colab_type": "code",
        "outputId": "5be5941c-a61e-41fd-f198-f837e7f362c9",
        "colab": {
          "base_uri": "https://localhost:8080/",
          "height": 3454
        }
      },
      "source": [
        "# Fitting the ANN to the Training set\n",
        "classifier.fit(X_train, y_train, batch_size = 10, epochs = 100)"
      ],
      "execution_count": 0,
      "outputs": [
        {
          "output_type": "stream",
          "text": [
            "Epoch 1/100\n",
            "455/455 [==============================] - 0s 323us/step - loss: 0.6749 - acc: 0.7736\n",
            "Epoch 2/100\n",
            "455/455 [==============================] - 0s 143us/step - loss: 0.4822 - acc: 0.9253\n",
            "Epoch 3/100\n",
            "455/455 [==============================] - 0s 115us/step - loss: 0.2302 - acc: 0.9363\n",
            "Epoch 4/100\n",
            "455/455 [==============================] - 0s 130us/step - loss: 0.1448 - acc: 0.9560\n",
            "Epoch 5/100\n",
            "455/455 [==============================] - 0s 112us/step - loss: 0.1095 - acc: 0.9692\n",
            "Epoch 6/100\n",
            "455/455 [==============================] - 0s 144us/step - loss: 0.0922 - acc: 0.9758\n",
            "Epoch 7/100\n",
            "455/455 [==============================] - 0s 139us/step - loss: 0.0800 - acc: 0.9802\n",
            "Epoch 8/100\n",
            "455/455 [==============================] - 0s 158us/step - loss: 0.0727 - acc: 0.9780\n",
            "Epoch 9/100\n",
            "455/455 [==============================] - 0s 150us/step - loss: 0.0673 - acc: 0.9802\n",
            "Epoch 10/100\n",
            "455/455 [==============================] - 0s 145us/step - loss: 0.0640 - acc: 0.9846\n",
            "Epoch 11/100\n",
            "455/455 [==============================] - 0s 137us/step - loss: 0.0615 - acc: 0.9846\n",
            "Epoch 12/100\n",
            "455/455 [==============================] - 0s 136us/step - loss: 0.0591 - acc: 0.9846\n",
            "Epoch 13/100\n",
            "455/455 [==============================] - 0s 140us/step - loss: 0.0573 - acc: 0.9846\n",
            "Epoch 14/100\n",
            "455/455 [==============================] - 0s 131us/step - loss: 0.0552 - acc: 0.9846\n",
            "Epoch 15/100\n",
            "455/455 [==============================] - 0s 136us/step - loss: 0.0534 - acc: 0.9846\n",
            "Epoch 16/100\n",
            "455/455 [==============================] - 0s 152us/step - loss: 0.0511 - acc: 0.9846\n",
            "Epoch 17/100\n",
            "455/455 [==============================] - 0s 156us/step - loss: 0.0498 - acc: 0.9846\n",
            "Epoch 18/100\n",
            "455/455 [==============================] - 0s 144us/step - loss: 0.0476 - acc: 0.9846\n",
            "Epoch 19/100\n",
            "455/455 [==============================] - 0s 132us/step - loss: 0.0458 - acc: 0.9846\n",
            "Epoch 20/100\n",
            "455/455 [==============================] - 0s 128us/step - loss: 0.0439 - acc: 0.9846\n",
            "Epoch 21/100\n",
            "455/455 [==============================] - 0s 146us/step - loss: 0.0427 - acc: 0.9846\n",
            "Epoch 22/100\n",
            "455/455 [==============================] - 0s 142us/step - loss: 0.0418 - acc: 0.9868\n",
            "Epoch 23/100\n",
            "455/455 [==============================] - 0s 151us/step - loss: 0.0393 - acc: 0.9868\n",
            "Epoch 24/100\n",
            "455/455 [==============================] - 0s 135us/step - loss: 0.0373 - acc: 0.9912\n",
            "Epoch 25/100\n",
            " 10/455 [..............................] - ETA: 0s - loss: 0.0066 - acc: 1.0000"
          ],
          "name": "stdout"
        },
        {
          "output_type": "stream",
          "text": [
            "455/455 [==============================] - 0s 147us/step - loss: 0.0365 - acc: 0.9934\n",
            "Epoch 26/100\n",
            "455/455 [==============================] - 0s 146us/step - loss: 0.0343 - acc: 0.9912\n",
            "Epoch 27/100\n",
            "455/455 [==============================] - 0s 134us/step - loss: 0.0342 - acc: 0.9912\n",
            "Epoch 28/100\n",
            "455/455 [==============================] - 0s 155us/step - loss: 0.0318 - acc: 0.9934\n",
            "Epoch 29/100\n",
            "455/455 [==============================] - 0s 159us/step - loss: 0.0298 - acc: 0.9934\n",
            "Epoch 30/100\n",
            "455/455 [==============================] - 0s 158us/step - loss: 0.0289 - acc: 0.9934\n",
            "Epoch 31/100\n",
            "455/455 [==============================] - 0s 162us/step - loss: 0.0278 - acc: 0.9934\n",
            "Epoch 32/100\n",
            "455/455 [==============================] - 0s 162us/step - loss: 0.0268 - acc: 0.9934\n",
            "Epoch 33/100\n",
            "455/455 [==============================] - 0s 163us/step - loss: 0.0252 - acc: 0.9934\n",
            "Epoch 34/100\n",
            "455/455 [==============================] - 0s 152us/step - loss: 0.0245 - acc: 0.9934\n",
            "Epoch 35/100\n",
            "455/455 [==============================] - 0s 147us/step - loss: 0.0230 - acc: 0.9934\n",
            "Epoch 36/100\n",
            "455/455 [==============================] - 0s 150us/step - loss: 0.0222 - acc: 0.9934\n",
            "Epoch 37/100\n",
            "455/455 [==============================] - 0s 146us/step - loss: 0.0229 - acc: 0.9934\n",
            "Epoch 38/100\n",
            "455/455 [==============================] - 0s 172us/step - loss: 0.0202 - acc: 0.9934\n",
            "Epoch 39/100\n",
            "455/455 [==============================] - 0s 145us/step - loss: 0.0195 - acc: 0.9934\n",
            "Epoch 40/100\n",
            "455/455 [==============================] - 0s 153us/step - loss: 0.0186 - acc: 0.9956\n",
            "Epoch 41/100\n",
            "455/455 [==============================] - 0s 152us/step - loss: 0.0179 - acc: 0.9934\n",
            "Epoch 42/100\n",
            "455/455 [==============================] - 0s 150us/step - loss: 0.0167 - acc: 0.9956\n",
            "Epoch 43/100\n",
            "455/455 [==============================] - 0s 149us/step - loss: 0.0162 - acc: 0.9934\n",
            "Epoch 44/100\n",
            "455/455 [==============================] - 0s 166us/step - loss: 0.0167 - acc: 0.9956\n",
            "Epoch 45/100\n",
            "455/455 [==============================] - 0s 160us/step - loss: 0.0157 - acc: 0.9934\n",
            "Epoch 46/100\n",
            "455/455 [==============================] - 0s 154us/step - loss: 0.0147 - acc: 0.9956\n",
            "Epoch 47/100\n",
            "455/455 [==============================] - 0s 160us/step - loss: 0.0144 - acc: 0.9956\n",
            "Epoch 48/100\n",
            "455/455 [==============================] - 0s 151us/step - loss: 0.0130 - acc: 0.9956\n",
            "Epoch 49/100\n",
            "455/455 [==============================] - 0s 146us/step - loss: 0.0116 - acc: 0.9956\n",
            "Epoch 50/100\n",
            " 10/455 [..............................] - ETA: 0s - loss: 0.0010 - acc: 1.0000"
          ],
          "name": "stdout"
        },
        {
          "output_type": "stream",
          "text": [
            "455/455 [==============================] - 0s 181us/step - loss: 0.0115 - acc: 0.9956\n",
            "Epoch 51/100\n",
            "455/455 [==============================] - 0s 156us/step - loss: 0.0106 - acc: 0.9956\n",
            "Epoch 52/100\n",
            "455/455 [==============================] - 0s 152us/step - loss: 0.0100 - acc: 0.9956\n",
            "Epoch 53/100\n",
            "455/455 [==============================] - 0s 150us/step - loss: 0.0096 - acc: 0.9956\n",
            "Epoch 54/100\n",
            "455/455 [==============================] - 0s 149us/step - loss: 0.0094 - acc: 0.9956\n",
            "Epoch 55/100\n",
            "455/455 [==============================] - 0s 146us/step - loss: 0.0085 - acc: 0.9978\n",
            "Epoch 56/100\n",
            "455/455 [==============================] - 0s 167us/step - loss: 0.0090 - acc: 0.9934\n",
            "Epoch 57/100\n",
            "455/455 [==============================] - 0s 190us/step - loss: 0.0083 - acc: 0.9978\n",
            "Epoch 58/100\n",
            "455/455 [==============================] - 0s 149us/step - loss: 0.0076 - acc: 0.9956\n",
            "Epoch 59/100\n",
            "455/455 [==============================] - 0s 147us/step - loss: 0.0071 - acc: 0.9978\n",
            "Epoch 60/100\n",
            "455/455 [==============================] - 0s 149us/step - loss: 0.0070 - acc: 0.9978\n",
            "Epoch 61/100\n",
            "455/455 [==============================] - 0s 137us/step - loss: 0.0067 - acc: 0.9956\n",
            "Epoch 62/100\n",
            "455/455 [==============================] - 0s 186us/step - loss: 0.0067 - acc: 0.9956\n",
            "Epoch 63/100\n",
            "455/455 [==============================] - 0s 155us/step - loss: 0.0061 - acc: 0.9978\n",
            "Epoch 64/100\n",
            "455/455 [==============================] - 0s 159us/step - loss: 0.0061 - acc: 0.9978\n",
            "Epoch 65/100\n",
            "455/455 [==============================] - 0s 148us/step - loss: 0.0054 - acc: 0.9978\n",
            "Epoch 66/100\n",
            "455/455 [==============================] - 0s 164us/step - loss: 0.0058 - acc: 0.9978\n",
            "Epoch 67/100\n",
            "455/455 [==============================] - 0s 158us/step - loss: 0.0051 - acc: 0.9978\n",
            "Epoch 68/100\n",
            "455/455 [==============================] - 0s 149us/step - loss: 0.0051 - acc: 1.0000\n",
            "Epoch 69/100\n",
            "455/455 [==============================] - 0s 160us/step - loss: 0.0049 - acc: 0.9978\n",
            "Epoch 70/100\n",
            "455/455 [==============================] - 0s 156us/step - loss: 0.0046 - acc: 1.0000\n",
            "Epoch 71/100\n",
            "455/455 [==============================] - 0s 179us/step - loss: 0.0043 - acc: 1.0000\n",
            "Epoch 72/100\n",
            "455/455 [==============================] - 0s 157us/step - loss: 0.0044 - acc: 0.9978\n",
            "Epoch 73/100\n",
            "455/455 [==============================] - 0s 147us/step - loss: 0.0042 - acc: 1.0000\n",
            "Epoch 74/100\n",
            "410/455 [==========================>...] - ETA: 0s - loss: 0.0049 - acc: 1.0000    "
          ],
          "name": "stdout"
        },
        {
          "output_type": "stream",
          "text": [
            "455/455 [==============================] - 0s 146us/step - loss: 0.0046 - acc: 1.0000\n",
            "Epoch 75/100\n",
            "455/455 [==============================] - 0s 159us/step - loss: 0.0039 - acc: 1.0000\n",
            "Epoch 76/100\n",
            "455/455 [==============================] - 0s 160us/step - loss: 0.0040 - acc: 1.0000\n",
            "Epoch 77/100\n",
            "455/455 [==============================] - 0s 154us/step - loss: 0.0037 - acc: 1.0000\n",
            "Epoch 78/100\n",
            "455/455 [==============================] - 0s 154us/step - loss: 0.0035 - acc: 1.0000\n",
            "Epoch 79/100\n",
            "455/455 [==============================] - 0s 162us/step - loss: 0.0036 - acc: 1.0000\n",
            "Epoch 80/100\n",
            "455/455 [==============================] - 0s 160us/step - loss: 0.0031 - acc: 1.0000\n",
            "Epoch 81/100\n",
            "455/455 [==============================] - 0s 161us/step - loss: 0.0030 - acc: 1.0000\n",
            "Epoch 82/100\n",
            "455/455 [==============================] - 0s 148us/step - loss: 0.0029 - acc: 1.0000\n",
            "Epoch 83/100\n",
            "455/455 [==============================] - 0s 153us/step - loss: 0.0028 - acc: 1.0000\n",
            "Epoch 84/100\n",
            "455/455 [==============================] - 0s 152us/step - loss: 0.0027 - acc: 1.0000\n",
            "Epoch 85/100\n",
            "455/455 [==============================] - 0s 162us/step - loss: 0.0027 - acc: 1.0000\n",
            "Epoch 86/100\n",
            "455/455 [==============================] - 0s 148us/step - loss: 0.0028 - acc: 1.0000\n",
            "Epoch 87/100\n",
            "455/455 [==============================] - 0s 142us/step - loss: 0.0024 - acc: 1.0000\n",
            "Epoch 88/100\n",
            "455/455 [==============================] - 0s 171us/step - loss: 0.0024 - acc: 1.0000\n",
            "Epoch 89/100\n",
            "455/455 [==============================] - 0s 161us/step - loss: 0.0022 - acc: 1.0000\n",
            "Epoch 90/100\n",
            "455/455 [==============================] - 0s 154us/step - loss: 0.0025 - acc: 1.0000\n",
            "Epoch 91/100\n",
            "455/455 [==============================] - 0s 177us/step - loss: 0.0022 - acc: 1.0000\n",
            "Epoch 92/100\n",
            "455/455 [==============================] - 0s 179us/step - loss: 0.0019 - acc: 1.0000\n",
            "Epoch 93/100\n",
            "455/455 [==============================] - 0s 160us/step - loss: 0.0020 - acc: 1.0000\n",
            "Epoch 94/100\n",
            "455/455 [==============================] - 0s 159us/step - loss: 0.0019 - acc: 1.0000\n",
            "Epoch 95/100\n",
            "455/455 [==============================] - 0s 168us/step - loss: 0.0019 - acc: 1.0000\n",
            "Epoch 96/100\n",
            "455/455 [==============================] - 0s 168us/step - loss: 0.0017 - acc: 1.0000\n",
            "Epoch 97/100\n",
            "455/455 [==============================] - 0s 167us/step - loss: 0.0017 - acc: 1.0000\n",
            "Epoch 98/100\n",
            "455/455 [==============================] - 0s 162us/step - loss: 0.0016 - acc: 1.0000\n"
          ],
          "name": "stdout"
        },
        {
          "output_type": "stream",
          "text": [
            "Epoch 99/100\n",
            "455/455 [==============================] - 0s 160us/step - loss: 0.0015 - acc: 1.0000\n",
            "Epoch 100/100\n",
            "455/455 [==============================] - 0s 185us/step - loss: 0.0015 - acc: 1.0000\n"
          ],
          "name": "stdout"
        },
        {
          "output_type": "execute_result",
          "data": {
            "text/plain": [
              "<keras.callbacks.History at 0x7f5ecb63ae10>"
            ]
          },
          "metadata": {
            "tags": []
          },
          "execution_count": 17
        }
      ]
    },
    {
      "cell_type": "code",
      "metadata": {
        "id": "UeFiVvqLNBfq",
        "colab_type": "code",
        "colab": {}
      },
      "source": [
        "# Predicting the Test set results\n",
        "y_pred = classifier.predict(X_test)\n",
        "y_pred = (y_pred > 0.5)\n",
        "\n",
        "# Making the Confusion Matrix\n",
        "from sklearn.metrics import confusion_matrix\n",
        "cm = confusion_matrix(y_test, y_pred)   "
      ],
      "execution_count": 0,
      "outputs": []
    },
    {
      "cell_type": "code",
      "metadata": {
        "id": "f_aHVatt1GUF",
        "colab_type": "code",
        "outputId": "86285a7b-ffec-452e-eb70-6129044024da",
        "colab": {
          "base_uri": "https://localhost:8080/",
          "height": 51
        }
      },
      "source": [
        "cm"
      ],
      "execution_count": 0,
      "outputs": [
        {
          "output_type": "execute_result",
          "data": {
            "text/plain": [
              "array([[70,  1],\n",
              "       [ 1, 42]])"
            ]
          },
          "metadata": {
            "tags": []
          },
          "execution_count": 19
        }
      ]
    },
    {
      "cell_type": "code",
      "metadata": {
        "id": "d-DhI0cy1IVe",
        "colab_type": "code",
        "outputId": "12b9110e-dc6d-474d-d35d-ecc4a3aac716",
        "colab": {
          "base_uri": "https://localhost:8080/",
          "height": 34
        }
      },
      "source": [
        "ls"
      ],
      "execution_count": 0,
      "outputs": [
        {
          "output_type": "stream",
          "text": [
            "\u001b[0m\u001b[01;34mdatalab\u001b[0m/\r\n"
          ],
          "name": "stdout"
        }
      ]
    },
    {
      "cell_type": "code",
      "metadata": {
        "id": "OD5tlczTexxV",
        "colab_type": "code",
        "outputId": "312b5cb3-219a-44f8-cdd9-207ff601a332",
        "colab": {
          "base_uri": "https://localhost:8080/",
          "height": 34
        }
      },
      "source": [
        "cd .."
      ],
      "execution_count": 0,
      "outputs": [
        {
          "output_type": "stream",
          "text": [
            "/\n"
          ],
          "name": "stdout"
        }
      ]
    },
    {
      "cell_type": "code",
      "metadata": {
        "id": "5Kp5TWQteziF",
        "colab_type": "code",
        "outputId": "64551a63-df45-4852-bf04-a3d88de2ffcf",
        "colab": {
          "base_uri": "https://localhost:8080/",
          "height": 544
        }
      },
      "source": [
        "ls"
      ],
      "execution_count": 0,
      "outputs": [
        {
          "output_type": "stream",
          "text": [
            "\u001b[0m\u001b[01;34mbackend-container\u001b[0m/\r\n",
            "\u001b[01;34mbin\u001b[0m/\r\n",
            "\u001b[01;34mboot\u001b[0m/\r\n",
            "\u001b[01;34mcolabtools\u001b[0m/\r\n",
            "\u001b[01;34mcontent\u001b[0m/\r\n",
            "\u001b[01;34mdatalab\u001b[0m/\r\n",
            "\u001b[01;34mdev\u001b[0m/\r\n",
            "\u001b[01;34metc\u001b[0m/\r\n",
            "gpu-tensorflow-1.6.0rc1-cp27-cp27mu-linux_x86_64.whl\r\n",
            "gpu-tensorflow-1.6.0rc1-cp36-cp36m-linux_x86_64.whl\r\n",
            "\u001b[01;34mhome\u001b[0m/\r\n",
            "\u001b[01;34mlib\u001b[0m/\r\n",
            "\u001b[01;34mlib64\u001b[0m/\r\n",
            "\u001b[01;34mmedia\u001b[0m/\r\n",
            "\u001b[01;34mmnt\u001b[0m/\r\n",
            "\u001b[01;34mnode_modules\u001b[0m/\r\n",
            "\u001b[01;34mopt\u001b[0m/\r\n",
            "\u001b[01;34mproc\u001b[0m/\r\n",
            "requirements.txt\r\n",
            "\u001b[01;34mroot\u001b[0m/\r\n",
            "\u001b[01;34mrun\u001b[0m/\r\n",
            "\u001b[01;34msbin\u001b[0m/\r\n",
            "\u001b[01;34msrv\u001b[0m/\r\n",
            "\u001b[01;34msys\u001b[0m/\r\n",
            "tensorflow-1.6.0rc1-cp27-cp27mu-linux_x86_64.whl\r\n",
            "tensorflow-1.6.0rc1-cp36-cp36m-linux_x86_64.whl\r\n",
            "\u001b[01;34mtf_deps\u001b[0m/\r\n",
            "\u001b[30;42mtmp\u001b[0m/\r\n",
            "\u001b[01;34mtools\u001b[0m/\r\n",
            "\u001b[01;34musr\u001b[0m/\r\n",
            "\u001b[01;34mvar\u001b[0m/\r\n"
          ],
          "name": "stdout"
        }
      ]
    },
    {
      "cell_type": "code",
      "metadata": {
        "id": "JTmXzrD0e0Hf",
        "colab_type": "code",
        "colab": {}
      },
      "source": [
        ""
      ],
      "execution_count": 0,
      "outputs": []
    }
  ]
}